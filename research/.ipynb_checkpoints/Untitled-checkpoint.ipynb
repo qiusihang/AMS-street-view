{
 "cells": [
  {
   "cell_type": "code",
   "execution_count": 21,
   "metadata": {},
   "outputs": [],
   "source": [
    "import math\n",
    "\n",
    "class Raycast:\n",
    "    \n",
    "    def __init__(self, heading, pitch, norm_screen_x, norm_screen_y, fovy, aspect):\n",
    "        # screen_x, screen_y: normalized (-1~1), aspect: width/height\n",
    "        self.heading = heading\n",
    "        self.pitch = pitch\n",
    "        self.screen_x = norm_screen_x\n",
    "        self.screen_y = norm_screen_y\n",
    "        self.fovy = fovy\n",
    "        self.aspect = aspect\n",
    "\n",
    "    def get_raycast(self):\n",
    "        return {'pitch': self.pitch + 0.5 * self.aspect * self.screen_y * self.fovy, \\\n",
    "                'heading': self.heading + 0.5 * self.screen_x * self.fovy}\n",
    "\n",
    "    def get_distance(self,observer_height): # if the raycast intersect with the ground\n",
    "        theta = self.get_raycast()['pitch']\n",
    "        if -1 > theta and theta > -89:\n",
    "            return observer_height/math.tan(theta/180.0*math.pi)\n",
    "        else:\n",
    "            return None\n",
    "        \n",
    "    def get_latlng(self,current_lat, current_lng):\n",
    "        heading = ((360 - self.get_raycast()['heading']) + 90)%360\n",
    "        distance = self.get_distance(2)\n",
    "        if distance is None:\n",
    "            return None\n",
    "        x = distance * math.cos(heading/180.0*math.pi)\n",
    "        y = distance * math.sin(heading/180.0*math.pi)\n",
    "        return {'lat': current_lat + y/111300.0, \\\n",
    "                'lng': current_lng + x/111300.0/math.cos(current_lat/180.0*math.pi)}"
   ]
  },
  {
   "cell_type": "code",
   "execution_count": 23,
   "metadata": {},
   "outputs": [
    {
     "name": "stdout",
     "output_type": "stream",
     "text": [
      "{'heading': -15.0, 'pitch': 0.0}\n",
      "None\n"
     ]
    }
   ],
   "source": [
    "raycast = Raycast(0,0,0,-0.5,60,1)\n",
    "print(raycast.get_raycast())\n",
    "print(raycast.get_latlng(30.0, 120.0))"
   ]
  },
  {
   "cell_type": "code",
   "execution_count": null,
   "metadata": {},
   "outputs": [],
   "source": []
  }
 ],
 "metadata": {
  "kernelspec": {
   "display_name": "Python 3",
   "language": "python",
   "name": "python3"
  },
  "language_info": {
   "codemirror_mode": {
    "name": "ipython",
    "version": 3
   },
   "file_extension": ".py",
   "mimetype": "text/x-python",
   "name": "python",
   "nbconvert_exporter": "python",
   "pygments_lexer": "ipython3",
   "version": "3.6.3"
  }
 },
 "nbformat": 4,
 "nbformat_minor": 2
}
